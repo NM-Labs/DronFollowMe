{
 "cells": [
  {
   "cell_type": "markdown",
   "id": "joined-southwest",
   "metadata": {},
   "source": [
    "## Desarrollo de modelo con Keras"
   ]
  },
  {
   "cell_type": "code",
   "execution_count": 1,
   "id": "racial-celtic",
   "metadata": {},
   "outputs": [
    {
     "name": "stderr",
     "output_type": "stream",
     "text": [
      "Using TensorFlow backend.\n"
     ]
    },
    {
     "name": "stdout",
     "output_type": "stream",
     "text": [
      "Device found : [PhysicalDevice(name='/physical_device:GPU:0', device_type='GPU')]\n"
     ]
    }
   ],
   "source": [
    "import numpy as np\n",
    "\n",
    "from keras.layers import Input, Flatten, Dense, Conv2D, BatchNormalization, LeakyReLU, Dropout, Activation,  MaxPooling2D\n",
    "from keras.models import Model\n",
    "from keras.optimizers import Adam\n",
    "from keras.utils import to_categorical\n",
    "import keras.backend as K \n",
    "from keras.datasets import mnist\n",
    "from keras.utils import np_utils\n",
    "\n",
    "import matplotlib.pyplot as plt\n",
    "import cv2\n",
    "import os\n",
    "from sklearn.model_selection import train_test_split\n",
    "import pandas as pd\n",
    "import random\n",
    "\n",
    "\n",
    "import tensorflow as tf\n",
    "from tensorflow.python.client import device_lib\n",
    "physical_device = tf.config.experimental.list_physical_devices('GPU')\n",
    "print(f'Device found : {physical_device}')\n",
    "tf.config.experimental.set_memory_growth(physical_device[0],True)"
   ]
  },
  {
   "cell_type": "code",
   "execution_count": 3,
   "id": "agricultural-glenn",
   "metadata": {},
   "outputs": [
    {
     "data": {
      "image/png": "[encoded data removed]",
      "text/plain": [
       "<Figure size 432x288 with 10 Axes>"
      ]
     },
     "metadata": {
      "needs_background": "light"
     },
     "output_type": "display_data"
    },
    {
     "name": "stdout",
     "output_type": "stream",
     "text": [
      "Datos de entrenamiento:  79919\n",
      "Datos de prueba:  8880\n"
     ]
    }
   ],
   "source": [
    "raw_data = pd.read_csv(\"emnist-letters-train/emnist-letters-train.csv\")\n",
    "\n",
    "all_X = raw_data.values[:,1:]\n",
    "all_y = raw_data.values[:,0]\n",
    "\n",
    "all_X = np.array(all_X)\n",
    "all_y = np.array(all_y)\n",
    "\n",
    "X_train = all_X.reshape(all_X.shape[0], 1, 28, 28).astype('float32') #3d array\n",
    "y_train = all_y\n",
    "\n",
    "\n",
    "X_train = X_train / 255\n",
    "\n",
    "y_train = np_utils.to_categorical(y_train)\n",
    "num_classes = y_train.shape[1]\n",
    "\n",
    "X_train, X_test, y_train, y_test = train_test_split(X_train, y_train, test_size = 0.1, random_state = 0)\n",
    "\n",
    "X_train = X_train.reshape(X_train.shape[0],28,28,1)\n",
    "X_test = X_test.reshape(X_test.shape[0],28,28,1)\n",
    "\n",
    "# Visualizar los datos\n",
    "fig = plt.figure()\n",
    "for i in range (0,10):\n",
    "  a = fig.add_subplot(5,2,i+1)\n",
    "  plt.imshow(np.squeeze(X_train[i]))\n",
    "plt.show()\n",
    "\n",
    "print('Datos de entrenamiento: ', len(X_train))\n",
    "print('Datos de prueba: ', len(X_test))"
   ]
  },
  {
   "cell_type": "code",
   "execution_count": 4,
   "id": "assumed-roman",
   "metadata": {},
   "outputs": [
    {
     "name": "stdout",
     "output_type": "stream",
     "text": [
      "Model: \"model_1\"\n",
      "_________________________________________________________________\n",
      "Layer (type)                 Output Shape              Param #   \n",
      "=================================================================\n",
      "input_1 (InputLayer)         (None, 28, 28, 1)         0         \n",
      "_________________________________________________________________\n",
      "conv2d_1 (Conv2D)            (None, 28, 28, 32)        320       \n",
      "_________________________________________________________________\n",
      "batch_normalization_1 (Batch (None, 28, 28, 32)        128       \n",
      "_________________________________________________________________\n",
      "leaky_re_lu_1 (LeakyReLU)    (None, 28, 28, 32)        0         \n",
      "_________________________________________________________________\n",
      "conv2d_2 (Conv2D)            (None, 14, 14, 32)        9248      \n",
      "_________________________________________________________________\n",
      "batch_normalization_2 (Batch (None, 14, 14, 32)        128       \n",
      "_________________________________________________________________\n",
      "leaky_re_lu_2 (LeakyReLU)    (None, 14, 14, 32)        0         \n",
      "_________________________________________________________________\n",
      "conv2d_3 (Conv2D)            (None, 14, 14, 64)        18496     \n",
      "_________________________________________________________________\n",
      "batch_normalization_3 (Batch (None, 14, 14, 64)        256       \n",
      "_________________________________________________________________\n",
      "leaky_re_lu_3 (LeakyReLU)    (None, 14, 14, 64)        0         \n",
      "_________________________________________________________________\n",
      "conv2d_4 (Conv2D)            (None, 7, 7, 64)          36928     \n",
      "_________________________________________________________________\n",
      "batch_normalization_4 (Batch (None, 7, 7, 64)          256       \n",
      "_________________________________________________________________\n",
      "leaky_re_lu_4 (LeakyReLU)    (None, 7, 7, 64)          0         \n",
      "_________________________________________________________________\n",
      "flatten_1 (Flatten)          (None, 3136)              0         \n",
      "_________________________________________________________________\n",
      "dense_1 (Dense)              (None, 128)               401536    \n",
      "_________________________________________________________________\n",
      "batch_normalization_5 (Batch (None, 128)               512       \n",
      "_________________________________________________________________\n",
      "leaky_re_lu_5 (LeakyReLU)    (None, 128)               0         \n",
      "_________________________________________________________________\n",
      "dropout_1 (Dropout)          (None, 128)               0         \n",
      "_________________________________________________________________\n",
      "dense_2 (Dense)              (None, 27)                3483      \n",
      "_________________________________________________________________\n",
      "activation_1 (Activation)    (None, 27)                0         \n",
      "=================================================================\n",
      "Total params: 471,291\n",
      "Trainable params: 470,651\n",
      "Non-trainable params: 640\n",
      "_________________________________________________________________\n"
     ]
    }
   ],
   "source": [
    "# Arquitectura 02\n",
    "\n",
    "input_layer = Input((28,28,1))\n",
    "\n",
    "x = Conv2D(filters = 32, kernel_size = 3, strides = 1, padding = 'same')(input_layer)\n",
    "x = BatchNormalization()(x)\n",
    "x = LeakyReLU()(x)\n",
    "\n",
    "\n",
    "x = Conv2D(filters = 32, kernel_size = 3, strides = 2, padding = 'same')(x)\n",
    "x = BatchNormalization()(x)\n",
    "x = LeakyReLU()(x)\n",
    "\n",
    "\n",
    "x = Conv2D(filters = 64, kernel_size = 3, strides = 1, padding = 'same')(x)\n",
    "x = BatchNormalization()(x)\n",
    "x = LeakyReLU()(x)\n",
    "\n",
    "\n",
    "x = Conv2D(filters = 64, kernel_size = 3, strides = 2, padding = 'same')(x)\n",
    "x = BatchNormalization()(x)\n",
    "x = LeakyReLU()(x)\n",
    "\n",
    "\n",
    "x = Flatten()(x)\n",
    "\n",
    "x = Dense(128)(x)\n",
    "x = BatchNormalization()(x)\n",
    "x = LeakyReLU()(x)\n",
    "x = Dropout(rate = 0.5)(x)\n",
    "\n",
    "x = Dense(num_classes)(x)\n",
    "output_layer = Activation('softmax')(x)\n",
    "\n",
    "model = Model(input_layer, output_layer)\n",
    "\n",
    "model.summary()"
   ]
  },
  {
   "cell_type": "code",
   "execution_count": 5,
   "id": "diverse-mathematics",
   "metadata": {},
   "outputs": [
    {
     "name": "stdout",
     "output_type": "stream",
     "text": [
      "Train on 79919 samples, validate on 8880 samples\n",
      "Epoch 1/10\n",
      "79919/79919 [==============================] - 23s 282us/step - loss: 0.7142 - accuracy: 0.7884 - val_loss: 0.3132 - val_accuracy: 0.8967\n",
      "Epoch 2/10\n",
      "79919/79919 [==============================] - 20s 252us/step - loss: 0.3919 - accuracy: 0.8764 - val_loss: 0.2544 - val_accuracy: 0.9123\n",
      "Epoch 3/10\n",
      "79919/79919 [==============================] - 20s 253us/step - loss: 0.3211 - accuracy: 0.8970 - val_loss: 0.2196 - val_accuracy: 0.9233\n",
      "Epoch 4/10\n",
      "79919/79919 [==============================] - 20s 253us/step - loss: 0.2874 - accuracy: 0.9065 - val_loss: 0.2281 - val_accuracy: 0.9205\n",
      "Epoch 5/10\n",
      "79919/79919 [==============================] - 20s 255us/step - loss: 0.2644 - accuracy: 0.9115 - val_loss: 0.1996 - val_accuracy: 0.9271\n",
      "Epoch 6/10\n",
      "79919/79919 [==============================] - 20s 255us/step - loss: 0.2500 - accuracy: 0.9168 - val_loss: 0.1992 - val_accuracy: 0.9285\n",
      "Epoch 7/10\n",
      "79919/79919 [==============================] - 20s 254us/step - loss: 0.2388 - accuracy: 0.9202 - val_loss: 0.1997 - val_accuracy: 0.9283\n",
      "Epoch 8/10\n",
      "79919/79919 [==============================] - 20s 255us/step - loss: 0.2268 - accuracy: 0.9235 - val_loss: 0.1918 - val_accuracy: 0.9313\n",
      "Epoch 9/10\n",
      "79919/79919 [==============================] - 20s 255us/step - loss: 0.2137 - accuracy: 0.9273 - val_loss: 0.1816 - val_accuracy: 0.9346\n",
      "Epoch 10/10\n",
      "79919/79919 [==============================] - 20s 256us/step - loss: 0.2080 - accuracy: 0.9296 - val_loss: 0.1946 - val_accuracy: 0.9297\n"
     ]
    },
    {
     "data": {
      "text/plain": [
       "<keras.callbacks.callbacks.History at 0x223059ad588>"
      ]
     },
     "execution_count": 5,
     "metadata": {},
     "output_type": "execute_result"
    }
   ],
   "source": [
    "opt = Adam(lr=0.0005)\n",
    "model.compile(loss='categorical_crossentropy', optimizer=opt, metrics=['accuracy'])\n",
    "\n",
    "model.fit(X_train\n",
    "          , y_train\n",
    "          , batch_size=32\n",
    "          , epochs=10\n",
    "          , shuffle=True\n",
    "          , validation_data = (X_test, y_test))"
   ]
  },
  {
   "cell_type": "code",
   "execution_count": null,
   "id": "cooperative-minutes",
   "metadata": {},
   "outputs": [],
   "source": [
    "# Guardar\n",
    "json_string = model.to_json()\n",
    "with open(\"Modelos entrenados/letras.json\", \"w\") as json_file:\n",
    "    json_file.write(json_string)\n",
    "model.save_weights(\"models/letras.h5\")\n",
    "\n",
    "print(\"Modelo guardado\")"
   ]
  },
  {
   "cell_type": "code",
   "execution_count": 7,
   "id": "retained-tuning",
   "metadata": {},
   "outputs": [
    {
     "name": "stdout",
     "output_type": "stream",
     "text": [
      "8880/8880 [==============================] - 1s 87us/step\n"
     ]
    },
    {
     "data": {
      "text/plain": [
       "[0.19455197574319066, 0.929729700088501]"
      ]
     },
     "execution_count": 7,
     "metadata": {},
     "output_type": "execute_result"
    }
   ],
   "source": [
    "model.evaluate(X_test, y_test, batch_size=1000)"
   ]
  }
 ],
 "metadata": {
  "kernelspec": {
   "display_name": "Python 3",
   "language": "python",
   "name": "python3"
  },
  "language_info": {
   "codemirror_mode": {
    "name": "ipython",
    "version": 3
   },
   "file_extension": ".py",
   "mimetype": "text/x-python",
   "name": "python",
   "nbconvert_exporter": "python",
   "pygments_lexer": "ipython3",
   "version": "3.6.12"
  }
 },
 "nbformat": 4,
 "nbformat_minor": 5
}
